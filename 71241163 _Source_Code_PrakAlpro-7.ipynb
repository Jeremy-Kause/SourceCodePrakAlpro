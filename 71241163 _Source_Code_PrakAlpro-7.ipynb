{
  "nbformat": 4,
  "nbformat_minor": 0,
  "metadata": {
    "colab": {
      "provenance": []
    },
    "kernelspec": {
      "name": "python3",
      "display_name": "Python 3"
    },
    "language_info": {
      "name": "python"
    }
  },
  "cells": [
    {
      "cell_type": "code",
      "source": [
        "n = int(input('Billangan: '))\n",
        "for i in range(n-1,0,-1):\n",
        "    cekPrima = 0\n",
        "    for j in range(1,i+1):\n",
        "        if i % j == 0:\n",
        "            cekPrima += 1\n",
        "    if cekPrima == 2:\n",
        "        print(i)\n",
        "        break"
      ],
      "metadata": {
        "colab": {
          "base_uri": "https://localhost:8080/"
        },
        "id": "qwa-v3DVM-Uc",
        "outputId": "8dd0ba61-2a69-4ebb-d715-42b13c3de7bc"
      },
      "execution_count": null,
      "outputs": [
        {
          "output_type": "stream",
          "name": "stdout",
          "text": [
            "Billangan: 21\n",
            "19\n"
          ]
        }
      ]
    },
    {
      "cell_type": "code",
      "source": [
        "n = int(input('Bilangan: '))\n",
        "for i in range(n,0,-1):\n",
        "    hasil = 1\n",
        "    for j in range(i,0,-1):\n",
        "        hasil *= j\n",
        "    print(hasil,end=' ')\n",
        "    for k in range(i,0,-1):\n",
        "        print(k,end=' ')\n",
        "    print()"
      ],
      "metadata": {
        "colab": {
          "base_uri": "https://localhost:8080/"
        },
        "id": "411Eb6rfOVQA",
        "outputId": "6cdf8bff-f41e-4c68-a88b-29097641ff7d"
      },
      "execution_count": null,
      "outputs": [
        {
          "output_type": "stream",
          "name": "stdout",
          "text": [
            "Bilangan: 6\n",
            "720 6 5 4 3 2 1 \n",
            "120 5 4 3 2 1 \n",
            "24 4 3 2 1 \n",
            "6 3 2 1 \n",
            "2 2 1 \n",
            "1 1 \n"
          ]
        }
      ]
    },
    {
      "cell_type": "code",
      "source": [
        "tinggi = int(input('Tinggin :'))\n",
        "lebar = int(input('Lebar: '))\n",
        "panjang = tinggi * lebar\n",
        "for i in range (1,panjang+1):\n",
        "    print(i,end=' ')\n",
        "    if i % lebar == 0:\n",
        "        print()"
      ],
      "metadata": {
        "colab": {
          "base_uri": "https://localhost:8080/"
        },
        "id": "CwyyA-jUQsWu",
        "outputId": "c0339274-e150-480a-8947-414ff62faa9e"
      },
      "execution_count": null,
      "outputs": [
        {
          "output_type": "stream",
          "name": "stdout",
          "text": [
            "Panjang: 5\n",
            "Lebar: 4\n",
            "1 2 3 4 \n",
            "5 6 7 8 \n",
            "9 10 11 12 \n",
            "13 14 15 16 \n",
            "17 18 19 20 \n"
          ]
        }
      ]
    }
  ]
}