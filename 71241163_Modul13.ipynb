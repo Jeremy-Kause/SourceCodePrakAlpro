{
 "cells": [
  {
   "cell_type": "code",
   "execution_count": null,
   "id": "a7923282",
   "metadata": {},
   "outputs": [
    {
     "name": "stdout",
     "output_type": "stream",
     "text": [
      "True\n"
     ]
    }
   ],
   "source": [
    "tA = (90, 90, 90, 90)\n",
    "for i in tA:\n",
    "    if i == tA[0]:\n",
    "        hasil = True\n",
    "    else:\n",
    "        hasil = False\n",
    "        break\n",
    "print(hasil)"
   ]
  },
  {
   "cell_type": "code",
   "execution_count": null,
   "id": "c13a6194",
   "metadata": {},
   "outputs": [
    {
     "name": "stdout",
     "output_type": "stream",
     "text": [
      "\n",
      "NIM             : 22064091\n",
      "NAMA            : Matahari Bhakti Nendya\n",
      "ALAMAT          : Bantul, DI Yogyakarta\n",
      "NIM             : ('2', '2', '0', '6', '4', '0', '9', '1')\n",
      "NAMA DEPAN      : ('a', 't', 'a', 'h', 'a', 'r', 'i')\n",
      "NAMA TERBALIK   : ('Nendya', 'Bhakti', 'Matahari')\n",
      "\n"
     ]
    }
   ],
   "source": [
    "data = ('Matahari Bhakti Nendya', '22064091', 'Bantul, DI Yogyakarta')\n",
    "nama, nim, alamat = data\n",
    "print(f'''\n",
    "NIM             : {nim}\n",
    "NAMA            : {nama}\n",
    "ALAMAT          : {alamat}\n",
    "NIM             : {tuple(nim)}\n",
    "NAMA DEPAN      : {tuple(nama.split()[0])[1:]}\n",
    "NAMA TERBALIK   : {tuple(nama.split()[::-1])}\n",
    "''')"
   ]
  },
  {
   "cell_type": "code",
   "execution_count": null,
   "id": "603c8d58",
   "metadata": {},
   "outputs": [
    {
     "name": "stdout",
     "output_type": "stream",
     "text": [
      "04 3\n",
      "06 1\n",
      "07 1\n",
      "09 2\n",
      "10 3\n",
      "11 6\n",
      "14 1\n",
      "15 2\n",
      "16 4\n",
      "17 2\n",
      "18 1\n",
      "19 1\n"
     ]
    }
   ],
   "source": [
    "import re\n",
    "nama_file = input('Enter nama file: ')\n",
    "file = open(nama_file)\n",
    "file = file.readlines()\n",
    "hasil = {}\n",
    "for i in file:\n",
    "    i = i.strip()\n",
    "    if i.startswith('From '):\n",
    "        waktu = re.findall(r'\\d+:\\d+:\\d+', i)[0]\n",
    "        jam = waktu.split(':')[0]\n",
    "        if jam not in hasil:\n",
    "            hasil[jam] = 1\n",
    "        else:\n",
    "            hasil[jam] += 1\n",
    "hasil = dict(sorted(hasil.items()))\n",
    "for i,j in hasil.items():\n",
    "    print(i,j)"
   ]
  }
 ],
 "metadata": {
  "kernelspec": {
   "display_name": "base",
   "language": "python",
   "name": "python3"
  },
  "language_info": {
   "codemirror_mode": {
    "name": "ipython",
    "version": 3
   },
   "file_extension": ".py",
   "mimetype": "text/x-python",
   "name": "python",
   "nbconvert_exporter": "python",
   "pygments_lexer": "ipython3",
   "version": "3.12.7"
  }
 },
 "nbformat": 4,
 "nbformat_minor": 5
}
