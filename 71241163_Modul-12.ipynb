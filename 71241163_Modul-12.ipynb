{
 "cells": [
  {
   "cell_type": "code",
   "execution_count": 2,
   "id": "16ccbfe1",
   "metadata": {},
   "outputs": [
    {
     "name": "stdout",
     "output_type": "stream",
     "text": [
      "key\tvalue\titem\n",
      "1\t10\t1\n",
      "2\t20\t2\n",
      "3\t30\t3\n",
      "4\t40\t4\n",
      "5\t50\t5\n",
      "6\t60\t6\n"
     ]
    }
   ],
   "source": [
    "data = {1: 10, 2: 20, 3: 30, 4: 40, 5: 50, 6: 60}\n",
    "item = 1\n",
    "print('key\\tvalue\\titem')\n",
    "for i, j in data.items():\n",
    "    print(f'{i}\\t{j}\\t{item}')\n",
    "    item += 1"
   ]
  },
  {
   "cell_type": "code",
   "execution_count": 24,
   "id": "48e8553a",
   "metadata": {},
   "outputs": [
    {
     "name": "stdout",
     "output_type": "stream",
     "text": [
      "{'red': '#FF0000', 'green': '#008000', 'blue': '#0000FF'}\n"
     ]
    }
   ],
   "source": [
    "lista = ['red', 'green', 'blue']\n",
    "listb = ['#FF0000','#008000', '#0000FF']\n",
    "gabung = dict(zip(lista, listb))\n",
    "print(gabung)"
   ]
  },
  {
   "cell_type": "code",
   "execution_count": null,
   "id": "b289d7d5",
   "metadata": {},
   "outputs": [
    {
     "name": "stdout",
     "output_type": "stream",
     "text": [
      "{'stephen.marquard@uct.ac.za': 2, 'louis@media.berkeley.edu': 3, 'zqian@umich.edu': 4, 'rjlowe@iupui.edu': 2, 'cwen@iupui.edu': 5, 'gsilver@umich.edu': 3, 'wagnermr@iupui.edu': 1, 'antranig@caret.cam.ac.uk': 1, 'gopal.ramasammycook@gmail.com': 1, 'david.horwitz@uct.ac.za': 4, 'ray@media.berkeley.edu': 1}\n"
     ]
    }
   ],
   "source": [
    "import re\n",
    "nama_file = input('Masukkan nama file: ')\n",
    "file = open(nama_file).readlines()\n",
    "email = dict()\n",
    "for i in file:\n",
    "    i = i.strip()\n",
    "    if i.startswith('From '):\n",
    "        i = (re.findall(r'[\\w\\._-]+@[\\w\\.]+',i)[0])\n",
    "        if i not in email:\n",
    "            email[i] = 1\n",
    "        else:\n",
    "            email[i] += 1\n",
    "print(email)"
   ]
  },
  {
   "cell_type": "code",
   "execution_count": null,
   "id": "480b0d41",
   "metadata": {},
   "outputs": [
    {
     "name": "stdout",
     "output_type": "stream",
     "text": [
      "{'uct.ac.za': 6, 'media.berkeley.edu': 4, 'umich.edu': 7, 'iupui.edu': 8, 'caret.cam.ac.uk': 1, 'gmail.com': 1}\n"
     ]
    }
   ],
   "source": [
    "import re\n",
    "nama_file = input('Masukkan nama file: ')\n",
    "file = open(nama_file).readlines()\n",
    "email = dict()\n",
    "for i in file:\n",
    "    i = i.strip()\n",
    "    if i.startswith('From '):\n",
    "        i = (re.findall(r'[\\w\\._-]+@[\\w\\.]+',i)[0])\n",
    "        i = i.split('@')[1]\n",
    "        if i not in email:\n",
    "            email[i] = 1\n",
    "        else:\n",
    "            email[i] += 1\n",
    "print(email)"
   ]
  }
 ],
 "metadata": {
  "kernelspec": {
   "display_name": "base",
   "language": "python",
   "name": "python3"
  },
  "language_info": {
   "codemirror_mode": {
    "name": "ipython",
    "version": 3
   },
   "file_extension": ".py",
   "mimetype": "text/x-python",
   "name": "python",
   "nbconvert_exporter": "python",
   "pygments_lexer": "ipython3",
   "version": "3.12.7"
  }
 },
 "nbformat": 4,
 "nbformat_minor": 5
}
