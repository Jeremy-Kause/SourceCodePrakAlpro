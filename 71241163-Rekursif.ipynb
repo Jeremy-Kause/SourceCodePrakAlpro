{
 "cells": [
  {
   "cell_type": "code",
   "execution_count": 4,
   "id": "6f57d408",
   "metadata": {},
   "outputs": [
    {
     "name": "stdout",
     "output_type": "stream",
     "text": [
      "Polindrom\n",
      "Bukan Polindrom\n"
     ]
    }
   ],
   "source": [
    "def polindrom(s):\n",
    "    s = s.lower()\n",
    "    if len(s) <= 1:\n",
    "        return 'Polindrom'\n",
    "    if s[0] != s[-1]:\n",
    "        return 'Bukan Polindrom'\n",
    "    return polindrom(s[1:-1])\n",
    "print(polindrom('kasur ini rusak'))\n",
    "print(polindrom('Jeremy'))"
   ]
  },
  {
   "cell_type": "code",
   "execution_count": 5,
   "id": "5e76d64b",
   "metadata": {},
   "outputs": [
    {
     "name": "stdout",
     "output_type": "stream",
     "text": [
      "25\n",
      "100\n"
     ]
    }
   ],
   "source": [
    "def deretGanjil(n):\n",
    "    if n == 1:\n",
    "        return 1\n",
    "    return (2 * n - 1) + deretGanjil(n - 1)\n",
    "print(deretGanjil(5))\n",
    "print(deretGanjil(10))"
   ]
  },
  {
   "cell_type": "code",
   "execution_count": 7,
   "id": "f0ab13e9",
   "metadata": {},
   "outputs": [
    {
     "name": "stdout",
     "output_type": "stream",
     "text": [
      "15\n",
      "2\n"
     ]
    }
   ],
   "source": [
    "def digit(n):\n",
    "    if n < 10:\n",
    "        return n\n",
    "    return n % 10 + digit(n // 10)\n",
    "print(digit(12345))\n",
    "print(digit(1000001))"
   ]
  },
  {
   "cell_type": "code",
   "execution_count": 8,
   "id": "d8bad72d",
   "metadata": {},
   "outputs": [
    {
     "name": "stdout",
     "output_type": "stream",
     "text": [
      "10\n",
      "120\n"
     ]
    }
   ],
   "source": [
    "def kombinasi(n, r):\n",
    "    if r == 0 or r == n:\n",
    "        return 1\n",
    "    return kombinasi(n - 1, r - 1) + kombinasi(n - 1, r)\n",
    "print(kombinasi(5, 2))\n",
    "print(kombinasi(10, 3))"
   ]
  }
 ],
 "metadata": {
  "kernelspec": {
   "display_name": "Python 3",
   "language": "python",
   "name": "python3"
  },
  "language_info": {
   "codemirror_mode": {
    "name": "ipython",
    "version": 3
   },
   "file_extension": ".py",
   "mimetype": "text/x-python",
   "name": "python",
   "nbconvert_exporter": "python",
   "pygments_lexer": "ipython3",
   "version": "3.12.6"
  }
 },
 "nbformat": 4,
 "nbformat_minor": 5
}
