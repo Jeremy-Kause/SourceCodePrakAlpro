{
 "cells": [
  {
   "cell_type": "code",
   "execution_count": 19,
   "id": "207d79ba",
   "metadata": {},
   "outputs": [
    {
     "name": "stdout",
     "output_type": "stream",
     "text": [
      "[91, 83, 69]\n"
     ]
    }
   ],
   "source": [
    "def bilangan_terbaik(angka):\n",
    "    print((sorted(angka)[::-1])[0:3])\n",
    "bilangan_terbaik([42, 7, 83, 25, 69, 18, 91, 56, 32, 10])"
   ]
  },
  {
   "cell_type": "code",
   "execution_count": null,
   "id": "78de0782",
   "metadata": {},
   "outputs": [
    {
     "name": "stdout",
     "output_type": "stream",
     "text": [
      "Rata-rata dari [1, 2, 3, 4, 5]: 3.0\n"
     ]
    }
   ],
   "source": [
    "tampung = []\n",
    "while True:\n",
    "    bilangan = input('Masukkan angka atau \"done\" (untuk berhenti): ').lower()\n",
    "    if bilangan.isdigit():\n",
    "        tampung.append(int(bilangan))\n",
    "    elif bilangan == 'done':\n",
    "        break\n",
    "    else:\n",
    "        print('Input harus bilangan atau \"done\"!!!')\n",
    "print(f'Rata-rata dari {tampung}:',round((sum(tampung)/len(tampung)),2))"
   ]
  },
  {
   "cell_type": "code",
   "execution_count": 3,
   "id": "7301f880",
   "metadata": {},
   "outputs": [
    {
     "name": "stdout",
     "output_type": "stream",
     "text": [
      "akan | segera | berlangsung | seluruh | indonesia | pemerintah | sudah | berbagai | hal | memastikan | kelancaran | para | pemilih | diminta | menggunakan | hak | dengan | bijak | setiap | sangat | berarti | dalam | menentukan | masa | depan | bangsa | partai | politik | juga | mulai | kandidat | mereka | bersaing | mendatang\n"
     ]
    }
   ],
   "source": [
    "import re\n",
    "\n",
    "with open('berita.txt', 'w') as file:\n",
    "    file.write('Pemilu 2024 akan segera berlangsung di seluruh Indonesia. Pemerintah sudah mempersiapkan berbagai hal untuk memastikan kelancaran pemilu. Para pemilih diminta untuk menggunakan hak suara dengan bijak. Setiap suara sangat berarti dalam menentukan masa depan bangsa. Partai politik juga mulai mempersiapkan kandidat mereka untuk bersaing di pemilu mendatang.')\n",
    "\n",
    "file = open('berita.txt')\n",
    "file = file.read().lower()\n",
    "kata = re.findall(r'\\w+', file)\n",
    "print(*[x for x in kata if kata.count(x) == 1 and x.isdigit() == False], sep=' | ')"
   ]
  }
 ],
 "metadata": {
  "kernelspec": {
   "display_name": "Python 3",
   "language": "python",
   "name": "python3"
  },
  "language_info": {
   "codemirror_mode": {
    "name": "ipython",
    "version": 3
   },
   "file_extension": ".py",
   "mimetype": "text/x-python",
   "name": "python",
   "nbconvert_exporter": "python",
   "pygments_lexer": "ipython3",
   "version": "3.12.6"
  }
 },
 "nbformat": 4,
 "nbformat_minor": 5
}
