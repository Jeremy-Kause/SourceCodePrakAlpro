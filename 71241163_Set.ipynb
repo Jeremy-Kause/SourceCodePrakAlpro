{
 "cells": [
  {
   "cell_type": "code",
   "execution_count": 7,
   "metadata": {},
   "outputs": [
    {
     "name": "stdout",
     "output_type": "stream",
     "text": [
      "Masukkan jumlah kategori:  3\n",
      "Masukkan nama kategori:  Sosial\n"
     ]
    },
    {
     "name": "stdout",
     "output_type": "stream",
     "text": [
      "Masukkan 5 nama aplikasi dikategori Sosial\n"
     ]
    },
    {
     "name": "stdout",
     "output_type": "stream",
     "text": [
      "Nama aplikasi:  Instagram\n",
      "Nama aplikasi:  Tiktok\n",
      "Nama aplikasi:  Whatsapp\n",
      "Nama aplikasi:  Telegram\n",
      "Nama aplikasi:  x\n",
      "Masukkan nama kategori:  Komunikasi\n"
     ]
    },
    {
     "name": "stdout",
     "output_type": "stream",
     "text": [
      "Masukkan 5 nama aplikasi dikategori Komunikasi\n"
     ]
    },
    {
     "name": "stdout",
     "output_type": "stream",
     "text": [
      "Nama aplikasi:  Telepon\n",
      "Nama aplikasi:  Whatsapp\n",
      "Nama aplikasi:  Telegram\n",
      "Nama aplikasi:  snapchat\n",
      "Nama aplikasi:  LINE\n",
      "Masukkan nama kategori:  Camera\n"
     ]
    },
    {
     "name": "stdout",
     "output_type": "stream",
     "text": [
      "Masukkan 5 nama aplikasi dikategori Camera\n"
     ]
    },
    {
     "name": "stdout",
     "output_type": "stream",
     "text": [
      "Nama aplikasi:  Instagram\n",
      "Nama aplikasi:  Tiktok\n",
      "Nama aplikasi:  VSCO\n",
      "Nama aplikasi:  sanapchat\n",
      "Nama aplikasi:  CandyCamera\n"
     ]
    },
    {
     "name": "stdout",
     "output_type": "stream",
     "text": [
      "{'Sosial': {'Whatsapp', 'x', 'Instagram', 'Telegram', 'Tiktok'}, 'Komunikasi': {'Whatsapp', 'Telepon', 'snapchat', 'Telegram', 'LINE'}, 'Camera': {'CandyCamera', 'sanapchat', 'Instagram', 'VSCO', 'Tiktok'}}\n",
      "[{'Whatsapp', 'x', 'Instagram', 'Telegram', 'Tiktok'}, {'Whatsapp', 'Telepon', 'snapchat', 'Telegram', 'LINE'}, {'CandyCamera', 'sanapchat', 'Instagram', 'VSCO', 'Tiktok'}]\n",
      "Aplikasi yang sama: set()\n",
      "Aplikasi yang berbeda: {'x'}\n",
      "Aplikasi yang tepat didua kategori: {'Tiktok', 'Instagram', 'Telegram', 'Whatsapp'}\n"
     ]
    }
   ],
   "source": [
    "n = int(input('Masukkan jumlah kategori: '))\n",
    "dataApp = {}\n",
    "aplikasi = []\n",
    "for i in range(n):\n",
    "    namaKategori = input('Masukkan nama kategori: ')\n",
    "    print('Masukkan 5 nama aplikasi dikategori', namaKategori)\n",
    "    namaAplikasi = {input('Nama aplikasi: ') for i in range(5)}\n",
    "    dataApp[namaKategori] = namaAplikasi\n",
    "    aplikasi.append(namaAplikasi)\n",
    "print(dataApp)\n",
    "print(aplikasi)\n",
    "sama = aplikasi[0]\n",
    "beda = aplikasi[0]\n",
    "for i in range(1,len(aplikasi)):\n",
    "    sama = sama & aplikasi[i]\n",
    "    beda = beda - aplikasi[i]\n",
    "print('Aplikasi yang sama:', sama)\n",
    "print('Aplikasi yang berbeda:', beda)\n",
    "jumlahMuncul = {}\n",
    "for i in aplikasi:\n",
    "    for j in i:\n",
    "        if j not in jumlahMuncul:\n",
    "            jumlahMuncul[j] = 1\n",
    "        else:\n",
    "            jumlahMuncul[j] += 1\n",
    "print('Aplikasi yang tepat didua kategori:',{x for x,y in jumlahMuncul.items() if y == 2})"
   ]
  },
  {
   "cell_type": "code",
   "execution_count": 3,
   "metadata": {},
   "outputs": [
    {
     "name": "stdout",
     "output_type": "stream",
     "text": [
      "Konveris List ke Set\n",
      "Data Sebelum Konversi: [3, 5, 2, 5, 7, 3, 9]\n",
      "Data Setelah Konversi: {2, 3, 5, 7, 9}\n",
      "Konversi Set ke List\n",
      "Data Sebelum Konversi: {2, 3, 5, 7, 9}\n",
      "Data Setelah Konversi: [2, 3, 5, 7, 9]\n",
      "Konversi Tuple ke Set\n",
      "Data Sebelum Konversi: ('Andi', 'Budi', 'Citra', 'Andi', 'Dina', 'Budi', 'Eka')\n",
      "Data Setelah Konversi: {'Andi', 'Eka', 'Citra', 'Dina', 'Budi'}\n",
      "Konversi Set ke Tuple\n",
      "Data Sebelum Konversi: {'Andi', 'Eka', 'Citra', 'Dina', 'Budi'}\n",
      "Data Setelah Konversi: ('Andi', 'Eka', 'Citra', 'Dina', 'Budi')\n"
     ]
    }
   ],
   "source": [
    "dataList = [3, 5, 2, 5, 7, 3, 9]\n",
    "print('Konveris List ke Set')\n",
    "print(f'''Data Sebelum Konversi: {dataList}\n",
    "Data Setelah Konversi: {set(dataList)}''')\n",
    "dataSet = set(dataList)\n",
    "print('Konversi Set ke List')\n",
    "print(f'''Data Sebelum Konversi: {dataSet}\n",
    "Data Setelah Konversi: {list(dataSet)}''')\n",
    "dataTuple = (\"Andi\", \"Budi\", \"Citra\", \"Andi\", \"Dina\", \"Budi\", \"Eka\")\n",
    "print('Konversi Tuple ke Set')\n",
    "print(f'''Data Sebelum Konversi: {dataTuple}\n",
    "Data Setelah Konversi: {set(dataTuple)}''')\n",
    "dataSet = set(dataTuple)\n",
    "print('Konversi Set ke Tuple')\n",
    "print(f'''Data Sebelum Konversi: {dataSet}\n",
    "Data Setelah Konversi: {tuple(dataSet)}''')"
   ]
  },
  {
   "cell_type": "code",
   "execution_count": 1,
   "metadata": {},
   "outputs": [
    {
     "name": "stdout",
     "output_type": "stream",
     "text": [
      "Masukkan nama file pertama:  surat1.txt\n",
      "Masukkan nama file kedua:  surat2.txt\n"
     ]
    },
    {
     "name": "stdout",
     "output_type": "stream",
     "text": [
      "['adin', 'aku', 'di', 'duduk', 'jogja', 'kita', 'lancar', 'masih', 'penuh', 'raka', 'sana', 'seperti', 'sudah']\n"
     ]
    }
   ],
   "source": [
    "import re\n",
    "# Membuat file \n",
    "with open('surat1.txt', 'w') as file:\n",
    "    file.write('''Kepada Sahabatku Raka,\n",
    "\n",
    "Apa kabar, Rak? Sudah lama sekali sejak kita terakhir bertemu di stasiun sore itu. Aku masih ingat tawa kita waktu hujan turun, dan kita berlomba-lomba mencari tempat berteduh.\n",
    "Sekarang aku tinggal di Jogja. Kota ini tenang, dan setiap sudutnya mengingatkanku pada obrolan panjang kita. Aku harap kamu baik-baik saja di sana, semoga pekerjaanmu lancar dan hidupmu penuh warna.\n",
    "\n",
    "Kalau kamu ada waktu, datanglah berkunjung. Kita bisa duduk minum kopi seperti dulu.\n",
    "\n",
    "Salam hangat,\n",
    "Adin''')\n",
    "with open('surat2.txt', 'w') as file:\n",
    "    file.write('''Untuk Adin yang selalu kuingat,\n",
    "\n",
    "Suratmu kubaca dengan senyum yang tak kunjung reda. Rasanya baru kemarin kita duduk di pinggir rel, membicarakan mimpi-mimpi gila kita. Jogja terdengar menyenangkan, aku senang kau betah di sana.\n",
    "Di sini, hidup masih penuh kejutan. Kadang melelahkan, tapi aku belajar banyak. Aku akan berusaha mampir, mungkin bulan depan jika semua lancar.\n",
    "\n",
    "Terima kasih sudah menulis. Suratmu seperti pelukan di tengah riuhnya hari.\n",
    "\n",
    "Sampai jumpa,\n",
    "Raka''')\n",
    "\n",
    "# Codingan Utama\n",
    "try:\n",
    "    file1 = open(input('Masukkan nama file pertama: ')).read().lower()\n",
    "    file2 = open(input('Masukkan nama file kedua: ')).read().lower()\n",
    "    words1 = set(re.findall(r'\\w+', file1))\n",
    "    words2 = set(re.findall(r'\\w+', file2))\n",
    "    print(sorted(words1 & words2))\n",
    "except FileNotFoundError:\n",
    "    print('Nama file tidak ditemukan.')"
   ]
  }
 ],
 "metadata": {
  "kernelspec": {
   "display_name": "Python 3 (ipykernel)",
   "language": "python",
   "name": "python3"
  },
  "language_info": {
   "codemirror_mode": {
    "name": "ipython",
    "version": 3
   },
   "file_extension": ".py",
   "mimetype": "text/x-python",
   "name": "python",
   "nbconvert_exporter": "python",
   "pygments_lexer": "ipython3",
   "version": "3.12.7"
  }
 },
 "nbformat": 4,
 "nbformat_minor": 4
}
