{
  "cells": [
    {
      "cell_type": "code",
      "execution_count": 1,
      "metadata": {
        "colab": {
          "base_uri": "https://localhost:8080/"
        },
        "id": "xVozp5jkBbWi",
        "outputId": "ee7d16fe-47e3-4670-fedd-1aaf2926245a"
      },
      "outputs": [
        {
          "name": "stdout",
          "output_type": "stream",
          "text": [
            "6 x 5 = 5 + 5 + 5 + 5 + 5 + 5 = 30\n"
          ]
        }
      ],
      "source": [
        "def perkailian(a,b):\n",
        "    print(f'{a} x {b} =',end=' ')\n",
        "    for i in range(a):\n",
        "        print(b,end=' ')\n",
        "        if i < a-1:\n",
        "            print('+',end=' ')\n",
        "    print(f'= {a*b}')\n",
        "perkailian(6,5)"
      ]
    },
    {
      "cell_type": "code",
      "execution_count": null,
      "metadata": {
        "colab": {
          "base_uri": "https://localhost:8080/"
        },
        "id": "e2dZVlo-BgVN",
        "outputId": "e445d71b-2e7e-4639-c83c-09333d25f4dc"
      },
      "outputs": [
        {
          "name": "stdout",
          "output_type": "stream",
          "text": [
            "11 13 15 17 19 21 23 25 27 29 "
          ]
        }
      ],
      "source": [
        "def Ganjil(a,b):\n",
        "    if a < b:\n",
        "        for i in range (a,b):\n",
        "            if  i % 2 == 1:\n",
        "                print(i,end=' ')\n",
        "    elif a > b:\n",
        "        for i in range(a,b,-1):\n",
        "            if i % 2 == 1:\n",
        "                print(i,end=' ')\n",
        "\n",
        "x = int(input(\"Bilangan bawah: \"))\n",
        "y = int(input(\"Bilangan atas: \"))\n",
        "Ganjil(x,y)"
      ]
    },
    {
      "cell_type": "code",
      "execution_count": 3,
      "metadata": {
        "colab": {
          "base_uri": "https://localhost:8080/"
        },
        "id": "PFMSkamRBl_1",
        "outputId": "9f4df97f-a99b-4faa-a783-c371a46148a5"
      },
      "outputs": [
        {
          "name": "stdout",
          "output_type": "stream",
          "text": [
            "Nilai IPS anda semester ini 2.67\n"
          ]
        }
      ],
      "source": [
        "jumlahMatkul = int(input(\"Berapa jumlah mata kuliah? \"))\n",
        "daftar_nilai = {\n",
        "    \"A\": 4,\"B\" : 3, \"C\" : 2, \"D\" : 1\n",
        "}\n",
        "hasil = 0\n",
        "for i in range (jumlahMatkul):\n",
        "    nilai = input(f\"Nilai MK {i+1}: \")\n",
        "    hasil = hasil + daftar_nilai[nilai]\n",
        "print(f\"Nilai IPS anda semester ini {round(hasil/jumlahMatkul,2)}\")"
      ]
    }
  ],
  "metadata": {
    "colab": {
      "provenance": []
    },
    "kernelspec": {
      "display_name": "Python 3",
      "name": "python3"
    },
    "language_info": {
      "codemirror_mode": {
        "name": "ipython",
        "version": 3
      },
      "file_extension": ".py",
      "mimetype": "text/x-python",
      "name": "python",
      "nbconvert_exporter": "python",
      "pygments_lexer": "ipython3",
      "version": "3.12.6"
    }
  },
  "nbformat": 4,
  "nbformat_minor": 0
}
